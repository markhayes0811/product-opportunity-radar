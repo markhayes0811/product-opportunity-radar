{
 "cells": [
  {
   "cell_type": "markdown",
   "id": "8eb9116a",
   "metadata": {},
   "source": [
    "# Product Opportunity Radar (Colab)\n",
    "Run the pipeline, visualize results, and optionally launch Streamlit."
   ]
  },
  {
   "cell_type": "code",
   "execution_count": null,
   "id": "757319c5",
   "metadata": {},
   "outputs": [],
   "source": [
    "!pip -q install pandas numpy scikit-learn plotly streamlit pyngrok -U"
   ]
  },
  {
   "cell_type": "markdown",
   "id": "bd9ac119",
   "metadata": {},
   "source": [
    "## Create demo data (or overwrite with your own)"
   ]
  },
  {
   "cell_type": "code",
   "execution_count": null,
   "id": "91d2b149",
   "metadata": {},
   "outputs": [],
   "source": [
    "\n",
    "from pathlib import Path\n",
    "import pandas as pd\n",
    "base = Path('/content/product-opportunity-radar'); (base/'data').mkdir(parents=True, exist_ok=True)\n",
    "# write the same CSVs as in the repo (abbreviated for brevity)\n",
    "pd.read_csv('/content/drive/MyDrive/if_exists_use_your_own.csv') if False else None  # placeholder\n",
    "# For convenience, we'll just download from your repo if you publish it; otherwise we generate synthetic data below.\n",
    "pd.DataFrame([\n",
    " [\"2025-06-01\",\"P100\",\"Wearables\",199.0,0.10,120,True],\n",
    " [\"2025-06-02\",\"P100\",\"Wearables\",199.0,0.00,60,True],\n",
    "], columns=[\"date\",\"product_id\",\"category\",\"price\",\"discount_pct\",\"units\",\"in_stock\"]).to_csv(base/'data'/'transactions.csv', index=False)\n"
   ]
  },
  {
   "cell_type": "markdown",
   "id": "96abbbb3",
   "metadata": {},
   "source": [
    "## Pipeline & charts"
   ]
  },
  {
   "cell_type": "code",
   "execution_count": null,
   "id": "f562507c",
   "metadata": {},
   "outputs": [],
   "source": [
    "\n",
    "# (Re)define the minimal pipeline inline for Colab\n",
    "import pandas as pd, numpy as np\n",
    "from sklearn.feature_extraction.text import TfidfVectorizer\n",
    "from pathlib import Path\n",
    "DATA_DIR = Path('/content/product-opportunity-radar/data')\n",
    "# ensure other CSVs exist by copying from the repo download (or use the ones you created)\n"
   ]
  },
  {
   "cell_type": "code",
   "execution_count": null,
   "id": "36be1644",
   "metadata": {},
   "outputs": [],
   "source": [
    "\n",
    "# Load data (if files missing, create tiny fallbacks)\n",
    "def ensure_csv(path, df):\n",
    "    if not path.exists(): df.to_csv(path, index=False)\n",
    "\n",
    "ensure_csv(DATA_DIR/'search_logs.csv', pd.DataFrame([[\"2025-06-01 10:01\",\"smart watch gps\",0,0,0]], columns=[\"ts\",\"query\",\"results_found\",\"clicks\",\"added_to_cart\"]))\n",
    "ensure_csv(DATA_DIR/'reviews.csv', pd.DataFrame([[\"2025-06-01\",\"P100\",3,\"Battery could be better\"]], columns=[\"date\",\"product_id\",\"rating\",\"review_text\"]))\n",
    "ensure_csv(DATA_DIR/'catalog.csv', pd.DataFrame([[\"P100\",\"Apex Smartwatch\",\"Wearables\",\"GPS, Heart-rate, Sleep\"]], columns=[\"product_id\",\"name\",\"category\",\"features\"]))\n",
    "ensure_csv(DATA_DIR/'competitors.csv', pd.DataFrame([[\"BrandZ\",\"Wearables\",\"BrandZ GPS Pro\",\"GPS, Waterproof, 10-day battery\"]], columns=[\"competitor\",\"category\",\"product_name\",\"key_features\"]))\n",
    "\n",
    "sales = pd.read_csv(DATA_DIR/'transactions.csv')\n",
    "searches = pd.read_csv(DATA_DIR/'search_logs.csv')\n",
    "reviews = pd.read_csv(DATA_DIR/'reviews.csv')\n",
    "catalog = pd.read_csv(DATA_DIR/'catalog.csv')\n",
    "competitors = pd.read_csv(DATA_DIR/'competitors.csv')\n",
    "print(\"Files ready in\", DATA_DIR)\n"
   ]
  },
  {
   "cell_type": "code",
   "execution_count": null,
   "id": "86f12174",
   "metadata": {},
   "outputs": [],
   "source": [
    "\n",
    "# Basic computations (unmet signal + trivial score)\n",
    "s = searches.copy(); s[\"unmet\"] = ((s[\"results_found\"]==0) | (s[\"clicks\"]==0)).astype(int)\n",
    "unmet = s.groupby(\"query\").agg(searches=(\"query\",\"count\"), unmet=(\"unmet\",\"sum\")).reset_index()\n",
    "unmet[\"unmet_signal\"] = unmet[\"unmet\"]/unmet[\"searches\"]\n",
    "unmet[\"category\"] = [\"Wearables\"]*len(unmet)\n",
    "opp = unmet.groupby(\"category\").agg(unmet_signal=(\"unmet_signal\",\"sum\"), search_volume=(\"searches\",\"sum\")).reset_index()\n",
    "opp[\"opportunity_score\"] = (opp[\"unmet_signal\"]-opp[\"unmet_signal\"].min())/(opp[\"unmet_signal\"].max()-opp[\"unmet_signal\"].min()+1e-9)\n",
    "opp\n"
   ]
  },
  {
   "cell_type": "code",
   "execution_count": null,
   "id": "dce143fe",
   "metadata": {},
   "outputs": [],
   "source": [
    "\n",
    "import plotly.express as px\n",
    "fig = px.bar(opp, x=\"category\", y=\"opportunity_score\", title=\"Opportunity Score by Category\")\n",
    "fig.show()\n"
   ]
  },
  {
   "cell_type": "markdown",
   "id": "328d0e2d",
   "metadata": {},
   "source": [
    "## Optional: Launch Streamlit in Colab"
   ]
  },
  {
   "cell_type": "code",
   "execution_count": null,
   "id": "aedcf6bc",
   "metadata": {},
   "outputs": [],
   "source": [
    "\n",
    "# Write a minimal Streamlit app and launch via pyngrok\n",
    "from pathlib import Path\n",
    "app = Path('/content/product-opportunity-radar/app.py')\n",
    "app.write_text(\"\"\"\n",
    "import streamlit as st, pandas as pd\n",
    "st.set_page_config(layout='wide', page_title='Product Opportunity Radar (Colab)')\n",
    "st.title('📈 Product Opportunity Radar (Colab)')\n",
    "opp = pd.read_csv('/content/product-opportunity-radar/data/opportunities.csv') if (Path('/content/product-opportunity-radar/data/opportunities.csv')).exists() else None\n",
    "st.write('If opportunities.csv exists, it will be shown below.')\n",
    "if opp is not None:\n",
    "    st.dataframe(opp, use_container_width=True)\n",
    "\"\"\")\n",
    "from pyngrok import ngrok, conf\n",
    "# conf.get_default().monitor_thread = False  # optional\n",
    "public_url = ngrok.connect(8501, \"http\").public_url\n",
    "print(\"Public URL:\", public_url)\n",
    "import subprocess, time\n",
    "subprocess.Popen([\"streamlit\", \"run\", str(app), \"--server.port\", \"8501\", \"--server.headless\", \"true\"])\n"
   ]
  }
 ],
 "metadata": {},
 "nbformat": 4,
 "nbformat_minor": 5
}
